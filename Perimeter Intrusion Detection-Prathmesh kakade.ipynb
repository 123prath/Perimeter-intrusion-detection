{
 "cells": [
  {
   "cell_type": "markdown",
   "metadata": {},
   "source": [
    "# Perimeter Intrusion Detection"
   ]
  },
  {
   "cell_type": "markdown",
   "metadata": {},
   "source": [
    "A perimeter intrusion detection system is a device or sensor that detects the presence of an intruder attempting to breach the physical perimeter of a property, building, or other secured area.A PIDS is typically deployed as part of an overall security system and is often found in high-security environments such as correctional facilities, airports,military bases, and nuclear plants.\n",
    "\n",
    "A PIDS typically acts as an early warning system, alerting a site's alarm system while the intruder is still at the perimeter and not yet in a building or other interior area. A PIDS isn't a replacement for surveillance cameras. The two technologies work together, with PIDS providing early intrusion detection while cameras provide real-time assessment capabilities.PIDS are often integrated with other security products like signage, security lighting, intercom systems, or loudspeakers to help deter potential intruders."
   ]
  },
  {
   "cell_type": "markdown",
   "metadata": {},
   "source": [
    "Tasks to be done : \n",
    "1. Get access to live camera which is fiited at area where we want to surveillance.\n",
    "2.Tracking the movement of intruder.\n",
    "3.Capturing the frames from live camera of detected intruder and saving it.\n",
    "4.Playing sound to alert the security.\n"
   ]
  },
  {
   "cell_type": "code",
   "execution_count": 9,
   "metadata": {},
   "outputs": [],
   "source": [
    "#!pip install opencv-python\n",
    "#!pip install playsound"
   ]
  },
  {
   "cell_type": "code",
   "execution_count": 11,
   "metadata": {},
   "outputs": [],
   "source": [
    "#Importing libraries \n",
    "import cv2\n",
    "import numpy as np\n",
    "import playsound\n",
    "from datetime import datetime\n",
    "\n",
    "#Getting access to live camera\n",
    "cap=cv2.VideoCapture(0)\n",
    "\n",
    "\n",
    "ret,frame1 =cap.read()\n",
    "ret,frame2 =cap.read()\n",
    "\n",
    "\n",
    "i=0\n",
    "while cap.isOpened():\n",
    "    diff = cv2.absdiff(frame1,frame2)\n",
    "    gray = cv2.cvtColor(diff, cv2.COLOR_BGR2GRAY) #converting BGR to gray image\n",
    "    blur = cv2.GaussianBlur(gray,(5,5),0) #To remove noise\n",
    "    _,thresh = cv2.threshold(blur,20,255,cv2.THRESH_BINARY)\n",
    "    dilated = cv2.dilate(thresh,None,iterations=3)\n",
    "    contours,_=cv2.findContours(dilated,cv2.RETR_TREE,cv2.CHAIN_APPROX_SIMPLE) #Finding contours\n",
    "    \n",
    "    #Adding date and time\n",
    "    font = cv2.FONT_HERSHEY_SIMPLEX\n",
    "    cv2.putText(frame1,str(datetime.now()),(10,30), font, 0.5,(0,255,0),1,cv2.LINE_AA)\n",
    "\n",
    "#Creating box surronding object\n",
    "    for contour in contours:\n",
    "        (x,y,w,h)=cv2.boundingRect(contour)\n",
    "\n",
    "        if cv2.contourArea(contour)<1000:            \n",
    "            cv2.rectangle(frame1,(x,y),(x+w,y+h),(0,255,0),2) #Creating box \n",
    "            cv2.imwrite(\"Perimeter Intrusion Detection/intruder/\"+str(i)+'.jpg',frame1) #Saving frames if some moment is detected\n",
    "            i+=1\n",
    "            playsound.playsound(\"Perimeter Intrusion Detection/Alarm.mp3\") #Playing sound to alert\n",
    "            continue\n",
    "\n",
    "            \n",
    "    cv2.imshow(\"Window\",frame1)\n",
    "    frame1=frame2\n",
    "    ret,frame2=cap.read()    \n",
    "    \n",
    "    if cv2.waitKey(1) & 0xFF == ord('q'):\n",
    "        break\n",
    "cv2.destroyAllWindows()\n",
    "cap.release()\n"
   ]
  },
  {
   "cell_type": "markdown",
   "metadata": {},
   "source": [
    "Resources used:\n",
    "1.Youtube- to know about Perimeter Intrusion Detection\n"
   ]
  },
  {
   "cell_type": "code",
   "execution_count": null,
   "metadata": {},
   "outputs": [],
   "source": []
  },
  {
   "cell_type": "code",
   "execution_count": null,
   "metadata": {},
   "outputs": [],
   "source": []
  },
  {
   "cell_type": "code",
   "execution_count": null,
   "metadata": {},
   "outputs": [],
   "source": []
  }
 ],
 "metadata": {
  "kernelspec": {
   "display_name": "Python 3",
   "language": "python",
   "name": "python3"
  },
  "language_info": {
   "codemirror_mode": {
    "name": "ipython",
    "version": 3
   },
   "file_extension": ".py",
   "mimetype": "text/x-python",
   "name": "python",
   "nbconvert_exporter": "python",
   "pygments_lexer": "ipython3",
   "version": "3.8.5"
  }
 },
 "nbformat": 4,
 "nbformat_minor": 4
}
